import os
import argparse
import pandas as pd
import numpy as np
import matplotlib.pyplot as plt
import seaborn as sns
from collections import Counter
from itertools import combinations
import warnings
from utils import clean_rate, clean_cost


warnings.filterwarnings('ignore')




def load_data(path):
print(f"Loading data from: {path}")
df = pd.read_csv(path, encoding='latin1')
print("Loaded rows:", len(df))
return df




def clean_data(df: pd.DataFrame) -> pd.DataFrame:
df = df.copy()


# Drop columns if present
columns_to_drop = ['phone']
existing = [c for c in columns_to_drop if c in df.columns]
if existing:
df = df.drop(columns=existing)


# Clean rate
if 'rate' in df.columns:
df['rate'] = clean_rate(df['rate'])
df['rate'] = df['rate'].fillna(df['rate'].median())


# Cost
if 'approx_cost(for two people)' in df.columns:
df['approx_cost(for two people)'] = clean_cost(df['approx_cost(for two people)'])
df['approx_cost(for two people)'] = df['approx_cost(for two people)'].fillna(
df['approx_cost(for two people)'].median()
)


# Votes
if 'votes' in df.columns:
df['votes'] = pd.to_numeric(df['votes'], errors='coerce').fillna(0)


# Categorical fills
for col in ['rest_type', 'location', 'cuisines', 'dish_liked', 'listed_in(type)']:
if col in df.columns:
if df[col].isnull().sum() > 0:
if col == 'listed_in(type)':
df[col] = df[col].fillna(df[col].mode().iloc[0])
else:
df[col] = df[col].fillna('Unknown')


# Price range
if 'approx_cost(for two people)' in df.columns:
df['price_range'] = pd.cut(df['approx_cost(for two people)'],
bins=[0, 300, 600, 1200, np.inf],
labels=['Budget', 'Moderate', 'Expensive', 'Premium'])


print("Data cleaning completed!")
return df




def basic_checks(df):
print("\nMissing Values:")
print(df.isnull().sum())
print("\nBasic Statistics:")
display = getattr(pd, 'set_option', None)
print(df.describe(include='all'))




def visuals(df, output_dir=None):
# 1. Distribution of Ratings
if 'rate' in df.columns:
main(args)
